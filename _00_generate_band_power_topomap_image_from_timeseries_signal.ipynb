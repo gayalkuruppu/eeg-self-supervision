{
 "cells": [
  {
   "cell_type": "code",
   "execution_count": 1,
   "id": "7f1bf0b8",
   "metadata": {},
   "outputs": [],
   "source": [
    "import numpy as np\n",
    "import mne\n",
    "import re"
   ]
  },
  {
   "cell_type": "markdown",
   "id": "d49c99de",
   "metadata": {},
   "source": [
    "### STEP 1: Load and preprocess EEG signals"
   ]
  },
  {
   "cell_type": "code",
   "execution_count": 4,
   "id": "6687eb06",
   "metadata": {},
   "outputs": [
    {
     "name": "stdout",
     "output_type": "stream",
     "text": [
      "Extracting EDF parameters from /home/gayal/datasets/tuh_abnormal/edf/train/normal/01_tcp_ar/aaaaaaav_s004_t000.edf...\n",
      "EDF file detected\n",
      "Setting channel info structure...\n",
      "Creating raw.info structure...\n",
      "Reading 0 ... 316999  =      0.000 ...  1267.996 secs...\n",
      "Filtering raw data in 1 contiguous segment\n",
      "Setting up band-pass filter from 1 - 45 Hz\n",
      "\n",
      "FIR filter parameters\n",
      "---------------------\n",
      "Designing a one-pass, zero-phase, non-causal bandpass filter:\n",
      "- Windowed time-domain design (firwin) method\n",
      "- Hamming window with 0.0194 passband ripple and 53 dB stopband attenuation\n",
      "- Lower passband edge: 1.00\n",
      "- Lower transition bandwidth: 1.00 Hz (-6 dB cutoff frequency: 0.50 Hz)\n",
      "- Upper passband edge: 45.00 Hz\n",
      "- Upper transition bandwidth: 11.25 Hz (-6 dB cutoff frequency: 50.62 Hz)\n",
      "- Filter length: 825 samples (3.300 s)\n",
      "\n",
      "NOTE: pick_channels() is a legacy function. New code should use inst.pick(...).\n"
     ]
    },
    {
     "data": {
      "text/html": [
       "<details open>\n",
       "    <summary><strong>General</strong></summary>\n",
       "    <table class=\"table table-hover table-striped table-sm table-responsive small\">\n",
       "        <tr>\n",
       "            <th>Measurement date</th>\n",
       "            \n",
       "            <td>August 15, 2013  10:55:04 GMT</td>\n",
       "            \n",
       "        </tr>\n",
       "        <tr>\n",
       "            <th>Experimenter</th>\n",
       "            \n",
       "            <td>Unknown</td>\n",
       "            \n",
       "        </tr>\n",
       "        <tr>\n",
       "            <th>Participant</th>\n",
       "            \n",
       "            \n",
       "            <td>aaaaaaav</td>\n",
       "            \n",
       "            \n",
       "        </tr>\n",
       "    </table>\n",
       "    </details>\n",
       "    <details open>\n",
       "        <summary><strong>Channels</strong></summary>\n",
       "        <table class=\"table table-hover table-striped table-sm table-responsive small\">\n",
       "            <tr>\n",
       "                <th>Digitized points</th>\n",
       "                \n",
       "                <td>Not available</td>\n",
       "                \n",
       "            </tr>\n",
       "            <tr>\n",
       "                <th>Good channels</th>\n",
       "                <td>19 EEG</td>\n",
       "            </tr>\n",
       "            <tr>\n",
       "                <th>Bad channels</th>\n",
       "                <td>None</td>\n",
       "            </tr>\n",
       "            <tr>\n",
       "                <th>EOG channels</th>\n",
       "                <td>Not available</td>\n",
       "            </tr>\n",
       "            <tr>\n",
       "                <th>ECG channels</th>\n",
       "                <td>Not available</td>\n",
       "            </tr>\n",
       "        </table>\n",
       "        </details>\n",
       "        <details open>\n",
       "            <summary><strong>Data</strong></summary>\n",
       "            <table class=\"table table-hover table-striped table-sm table-responsive small\">\n",
       "                \n",
       "                <tr>\n",
       "                    <th>Sampling frequency</th>\n",
       "                    <td>250.00 Hz</td>\n",
       "                </tr>\n",
       "                \n",
       "                \n",
       "                <tr>\n",
       "                    <th>Highpass</th>\n",
       "                    <td>1.00 Hz</td>\n",
       "                </tr>\n",
       "                \n",
       "                \n",
       "                <tr>\n",
       "                    <th>Lowpass</th>\n",
       "                    <td>45.00 Hz</td>\n",
       "                </tr>\n",
       "                \n",
       "                \n",
       "                \n",
       "                <tr>\n",
       "                    <th>Filenames</th>\n",
       "                    <td>aaaaaaav_s004_t000.edf</td>\n",
       "                </tr>\n",
       "                \n",
       "                \n",
       "                <tr>\n",
       "                    <th>Duration</th>\n",
       "                    <td>00:21:08 (HH:MM:SS)</td>\n",
       "                </tr>\n",
       "                \n",
       "            </table>\n",
       "            </details>"
      ],
      "text/plain": [
       "<RawEDF | aaaaaaav_s004_t000.edf, 19 x 317000 (1268.0 s), ~46.0 MB, data loaded>"
      ]
     },
     "execution_count": 4,
     "metadata": {},
     "output_type": "execute_result"
    }
   ],
   "source": [
    "# example file\n",
    "\n",
    "# edf_f = '/home/gayal/datasets/tuh_abnormal/edf/train/normal/01_tcp_ar/079/00007988/s002_2012_02_20/00007988_s002_t000.edf'\n",
    "edf_f = '/home/gayal/datasets/tuh_abnormal/edf/train/normal/01_tcp_ar/aaaaaaav_s004_t000.edf'\n",
    "\n",
    "raw = mne.io.read_raw_edf(edf_f, preload=True)\n",
    "\n",
    "raw = raw.filter(l_freq=1.0, h_freq=45.0)\n",
    "\n",
    "# standardize channel names\n",
    "new_names = dict((ch_name, re.sub(r\"-[a-zA-Z]+\", \"\", ch_name).lower().replace('t3', 't7').replace('t4', 't8')\n",
    "                .replace('t5', 'p7').replace('t6', 'p8').replace('eeg ', '').replace(' ', ''))\n",
    "    for ch_name in raw.ch_names)\n",
    "raw.rename_channels(new_names)\n",
    "\n",
    "# keep only eeg channels\n",
    "CH_NAMES_10_20 = [\n",
    "'fp1', 'f3', 'f7', 'c3', 't7', 'p3', 'p7', 'o1', 'fp2', 'f4', 'f8',\n",
    "       'c4', 't8', 'p4', 'p8', 'o2', 'fz', 'cz', 'pz'\n",
    "]\n",
    "raw = raw.pick_channels(CH_NAMES_10_20, ordered=True)\n",
    "raw"
   ]
  },
  {
   "cell_type": "markdown",
   "id": "a56baa0f",
   "metadata": {},
   "source": [
    "### STEP 2: Create EEG epochs (timeseries)"
   ]
  },
  {
   "cell_type": "code",
   "execution_count": 5,
   "id": "880474fd",
   "metadata": {},
   "outputs": [
    {
     "name": "stdout",
     "output_type": "stream",
     "text": [
      "Not setting metadata\n",
      "126 matching events found\n",
      "No baseline correction applied\n",
      "0 projection items activated\n",
      "Using data from preloaded Raw for 126 events and 2500 original time points ...\n",
      "0 bad epochs dropped\n",
      "EEG channel type selected for re-referencing\n",
      "Applying average reference.\n",
      "Applying a custom ('EEG',) reference.\n"
     ]
    },
    {
     "name": "stderr",
     "output_type": "stream",
     "text": [
      "/tmp/ipykernel_2100068/2781412427.py:11: FutureWarning: The current default of copy=False will change to copy=True in 1.7. Set the value of copy explicitly to avoid this warning\n",
      "  epochs.get_data().shape\n"
     ]
    },
    {
     "data": {
      "text/plain": [
       "(20, 19, 2500)"
      ]
     },
     "execution_count": 5,
     "metadata": {},
     "output_type": "execute_result"
    }
   ],
   "source": [
    "epochs = mne.make_fixed_length_epochs(raw, duration=10, preload=True)\n",
    "\n",
    "# for illustration only\n",
    "epochs = epochs[:20]\n",
    "\n",
    "montage = mne.channels.make_standard_montage('standard_1020')\n",
    "epochs.set_montage(montage, match_case=False, match_alias=True, on_missing='raise')\n",
    "\n",
    "mne.set_eeg_reference(epochs, ref_channels='average')\n",
    "\n",
    "epochs.get_data().shape"
   ]
  },
  {
   "cell_type": "markdown",
   "id": "a7672c03",
   "metadata": {},
   "source": [
    "### STEP 3: EEG epochs (timeseries) --> EEG epochs (topomap image)"
   ]
  },
  {
   "cell_type": "code",
   "execution_count": 6,
   "id": "2883b02a",
   "metadata": {},
   "outputs": [
    {
     "name": "stdout",
     "output_type": "stream",
     "text": [
      "Effective window size : 8.192 (s)\n",
      "(20, 5, 19)\n"
     ]
    }
   ],
   "source": [
    "from utils.features import eeg_power_in_bands\n",
    "\n",
    "_, epochs_bandpower_data = eeg_power_in_bands(epochs)\n",
    "epochs_bandpower_data = np.swapaxes(epochs_bandpower_data, 0, 1)\n",
    "print(epochs_bandpower_data.shape)"
   ]
  },
  {
   "cell_type": "code",
   "execution_count": 7,
   "id": "ed90649f",
   "metadata": {},
   "outputs": [
    {
     "data": {
      "image/png": "[encoded data removed]",
      "text/plain": [
       "<Figure size 100x100 with 1 Axes>"
      ]
     },
     "metadata": {},
     "output_type": "display_data"
    }
   ],
   "source": [
    "epoch_idx = 10\n",
    "band_idx = 3\n",
    "\n",
    "im, _ = mne.viz.plot_topomap(epochs_bandpower_data[epoch_idx, band_idx, :], epochs.info, \n",
    "                             sensors=False, contours=False, cmap='gray', show=True, \n",
    "                             outlines='head', res=32, extrapolate='head'\n",
    "                            )"
   ]
  },
  {
   "cell_type": "markdown",
   "id": "32728442",
   "metadata": {},
   "source": [
    "### STEP 4: EEG epochs (topomap image) --> EEG epochs (topomap image) numpy array"
   ]
  },
  {
   "cell_type": "code",
   "execution_count": 8,
   "id": "c5d7fd9a",
   "metadata": {},
   "outputs": [],
   "source": [
    "from utils.topomaps import _img_to_array, _remove_head_cartoon\n",
    "from matplotlib import pyplot as plt\n",
    "\n",
    "num_epochs = len(epochs_bandpower_data)\n",
    "epochs_topomap_images = np.zeros((num_epochs, 5, 100, 100))\n",
    "\n",
    "for epoch_idx in range(num_epochs):\n",
    "    for band_idx in range(5):\n",
    "\n",
    "        im, _ = mne.viz.plot_topomap(epochs_bandpower_data[epoch_idx, band_idx, :], epochs.info, \n",
    "                                     sensors=False, contours=False, cmap='gray', show=True, \n",
    "                                     outlines='head', res=32, extrapolate='head')\n",
    "\n",
    "        fig_arr = _img_to_array(im)\n",
    "    #     print(fig_arr.shape)\n",
    "\n",
    "        clean_fig_arr = _remove_head_cartoon(fig_arr)\n",
    "    #     print(clean_fig_arr.shape)\n",
    "\n",
    "        grayscale = clean_fig_arr[:,:,0] / 255.0\n",
    "    #     print(grayscale.shape)\n",
    "\n",
    "        epochs_topomap_images[epoch_idx, band_idx, :, :] = grayscale\n",
    "        \n",
    "    plt.close('all')"
   ]
  },
  {
   "cell_type": "code",
   "execution_count": 9,
   "id": "d51dd1c5",
   "metadata": {},
   "outputs": [
    {
     "data": {
      "image/png": "[encoded data removed]",
      "text/plain": [
       "<Figure size 640x480 with 1 Axes>"
      ]
     },
     "metadata": {},
     "output_type": "display_data"
    }
   ],
   "source": [
    "from matplotlib import pyplot as plt\n",
    "%matplotlib inline\n",
    "\n",
    "# same as previous plot above\n",
    "epoch_idx = 10\n",
    "band_idx = 3\n",
    "\n",
    "plt.imshow(epochs_topomap_images[epoch_idx, band_idx, :, :], interpolation='nearest', cmap='gray')\n",
    "plt.show()"
   ]
  },
  {
   "cell_type": "markdown",
   "id": "a43c33da",
   "metadata": {},
   "source": [
    "### STEP 5: (...... use topomap images in PyTorch dataloader for model training)"
   ]
  },
  {
   "cell_type": "code",
   "execution_count": 8,
   "id": "db70ef06",
   "metadata": {},
   "outputs": [],
   "source": [
    "# TODO"
   ]
  }
 ],
 "metadata": {
  "kernelspec": {
   "display_name": "Python 3 (ipykernel)",
   "language": "python",
   "name": "python3"
  },
  "language_info": {
   "codemirror_mode": {
    "name": "ipython",
    "version": 3
   },
   "file_extension": ".py",
   "mimetype": "text/x-python",
   "name": "python",
   "nbconvert_exporter": "python",
   "pygments_lexer": "ipython3",
   "version": "3.9.13"
  }
 },
 "nbformat": 4,
 "nbformat_minor": 5
}
